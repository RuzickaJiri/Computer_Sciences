{
 "cells": [
  {
   "cell_type": "markdown",
   "metadata": {},
   "source": [
    "# Introduction"
   ]
  },
  {
   "cell_type": "code",
   "execution_count": null,
   "metadata": {},
   "outputs": [],
   "source": []
  },
  {
   "cell_type": "markdown",
   "metadata": {},
   "source": [
    "# Exact solution"
   ]
  },
  {
   "cell_type": "markdown",
   "metadata": {},
   "source": [
    "We represent a weighted, non-oriented graph with an adjacency list. We also assume\n",
    "that a graph is always connected, i.e. that it is always possible to reach a node from any\n",
    "other node."
   ]
  },
  {
   "cell_type": "markdown",
   "metadata": {},
   "source": [
    "- *In a complete graph, all nodes are connected to one another. What is the number of Hamiltonian paths in a complete graph of size n?*\n"
   ]
  },
  {
   "cell_type": "markdown",
   "metadata": {},
   "source": [
    "\n",
    "Among a set N of n nodes, we can describe each Hamilton path as an ordered combinaison of all ellements of N. It's an arrangment. In a complete graph, all nodes are conected so all arrangment n describe an Hamilton path.The number of possible arrangement ${\\displaystyle A_{n}^{n}}=n!$ \n",
    "\n",
    "The number of Hamiltonian paths in a complete graph of size n is $n!$"
   ]
  },
  {
   "cell_type": "markdown",
   "metadata": {},
   "source": [
    "- *Write a Python function that enumerates all Hamiltonian paths starting from a node i in a graph of size n, and returns the shortest one. What is its time complexity?*"
   ]
  },
  {
   "cell_type": "markdown",
   "metadata": {},
   "source": [
    "We build a recursive function that return the list of all existing Hamiltonian paths. Complexity: (n-1)!"
   ]
  },
  {
   "cell_type": "code",
   "execution_count": 2,
   "metadata": {},
   "outputs": [],
   "source": [
    "import networkx as nx"
   ]
  },
  {
   "cell_type": "code",
   "execution_count": 65,
   "metadata": {},
   "outputs": [],
   "source": [
    "\n",
    "def HamiltonRecursiveLister(PathList_,Path,Graph,Curentnode): \n",
    "    Path.append(Curentnode)\n",
    "    if len(Path)==Graph.number_of_nodes():\n",
    "        PathList_.append(Path.copy())\n",
    "        del Path[-1]\n",
    "    else:\n",
    "        for node in Graph.neighbors(Curentnode):\n",
    "            if node not in Path:\n",
    "                PathList_=HamiltonRecursiveLister(PathList_,Path,Graph,node)\n",
    "        del Path[-1]\n",
    "                \n",
    "    \n",
    "    return PathList_\n",
    "    "
   ]
  },
  {
   "cell_type": "markdown",
   "metadata": {},
   "source": [
    "We build a test to see if our function worl properly."
   ]
  },
  {
   "cell_type": "code",
   "execution_count": 71,
   "metadata": {},
   "outputs": [
    {
     "data": {
      "image/png": "[encoded data removed]",
      "text/plain": [
       "<matplotlib.figure.Figure at 0x7f7d540d9208>"
      ]
     },
     "metadata": {
      "needs_background": "light"
     },
     "output_type": "display_data"
    }
   ],
   "source": [
    "import matplotlib.pyplot as plt\n",
    "testG= nx.Graph()\n",
    "testG.add_nodes_from([1,2,3,4])\n",
    "testG.add_weighted_edges_from([(3, 1,1),(3,2,2),(4,2,1),(3,4,1)])\n",
    "nx.draw_networkx(testG)"
   ]
  },
  {
   "cell_type": "code",
   "execution_count": 84,
   "metadata": {},
   "outputs": [
    {
     "name": "stdout",
     "output_type": "stream",
     "text": [
      "True True True True\n"
     ]
    }
   ],
   "source": [
    "print(HamiltonRecursiveLister([],[],testG,1)==[[1, 3, 2, 4], [1, 3, 4, 2]],HamiltonRecursiveLister([],[],testG,2)==[[2, 4, 3, 1]],HamiltonRecursiveLister([],[],testG,3)==[],HamiltonRecursiveLister([],[],testG,4)==[[4, 2, 3, 1]])"
   ]
  },
  {
   "cell_type": "markdown",
   "metadata": {},
   "source": [
    "It work.\n",
    "\n",
    "We now build a recursive function that enumerates all Hamiltonian paths starting from a node i in a graph of size n, and returns the shortest one"
   ]
  },
  {
   "cell_type": "code",
   "execution_count": 88,
   "metadata": {},
   "outputs": [],
   "source": [
    "#HamiltonRecursiveFinder. Prend en parametre un graphe de taille N et un noeud i\n",
    "def HRF(Graph,Curentnode,BestPath=[],Bestlength=-1,Pathlength=0,CurentPath=[]): \n",
    "    CurentPath.append(Curentnode) #C=O(1)\n",
    "    if len(CurentPath)==Graph.number_of_nodes(): #C=O(1) (we assume this number is not calculated)\n",
    "        if Bestlength>Pathlength or Bestlength==-1: #C=O(1)\n",
    "            BestPath=CurentPath.copy() #C=O(N)\n",
    "            Bestlength=Pathlength #C=O(1)\n",
    "        del CurentPath[-1]\n",
    "    else:\n",
    "        for node in Graph.neighbors(Curentnode): #C=(n-1)*C(HRF(graphe de taille n-1))\n",
    "            if node not in CurentPath:#C=O(1)\n",
    "                length=Pathlength+Graph[Curentnode][node]['weight']#C=O(1)\n",
    "                if length < Bestlength  or Bestlength==-1:#C=O(1)\n",
    "                    BestPath, Bestlength=HRF(Graph,node,BestPath,Bestlength,length,CurentPath)#C=O(HRF(graphe de taille n-1)\n",
    "        del CurentPath[-1] #C=O(1)\n",
    "                \n",
    "    \n",
    "    return BestPath, Bestlength"
   ]
  },
  {
   "cell_type": "markdown",
   "metadata": {},
   "source": [
    "We test it"
   ]
  },
  {
   "cell_type": "code",
   "execution_count": 89,
   "metadata": {},
   "outputs": [
    {
     "name": "stdout",
     "output_type": "stream",
     "text": [
      "True\n"
     ]
    }
   ],
   "source": [
    "\n",
    "print(HRF(testG,1)==([1, 3, 4, 2], 3))"
   ]
  },
  {
   "cell_type": "markdown",
   "metadata": {},
   "source": [
    "It work\n",
    "For a graph of size N, the time complexity is $N*(N-1)!=N!$"
   ]
  },
  {
   "cell_type": "markdown",
   "metadata": {},
   "source": [
    "- *Finally, write a Python function that finds an exact solution to the Traveling SalesmanProblem for a graph of size n.*"
   ]
  },
  {
   "cell_type": "markdown",
   "metadata": {},
   "source": [
    "We jeust need to applly our HRF function to each nodes of the graph and find the best one"
   ]
  },
  {
   "cell_type": "code",
   "execution_count": 104,
   "metadata": {},
   "outputs": [],
   "source": [
    "#Traveling Salesman Problem Solver C=O(n*n!)\n",
    "def TSPS(Graph):#C=O(1)\n",
    "    Path=[]#C=O(1)\n",
    "    length=-1#C=O(1)\n",
    "    for node in Graph.nodes(): #C=O(n*n!)\n",
    "        P,d= HRF(Graph,node) #C=O(n!)\n",
    "        if (d<length or length==-1)and d!=-1:\n",
    "            Path=P\n",
    "            length=d\n",
    "    return Path,length\n",
    "        "
   ]
  },
  {
   "cell_type": "code",
   "execution_count": 105,
   "metadata": {},
   "outputs": [
    {
     "data": {
      "text/plain": [
       "([1, 3, 4, 2], 3)"
      ]
     },
     "execution_count": 105,
     "metadata": {},
     "output_type": "execute_result"
    }
   ],
   "source": [
    "TSPS(testG)"
   ]
  },
  {
   "cell_type": "markdown",
   "metadata": {},
   "source": [
    "# The Nearest Neighbor heuristic"
   ]
  },
  {
   "cell_type": "markdown",
   "metadata": {},
   "source": [
    "- *Write a function that implements the Nearest Neighbor heuristic.*"
   ]
  },
  {
   "cell_type": "code",
   "execution_count": 110,
   "metadata": {},
   "outputs": [],
   "source": [
    "def NNH(Graph,node):\n",
    "    Path=[node]#C=O(1)\n",
    "    N=len(Graph)#C=O(1)\n",
    "    while len(Path)<N:#C=O(n^2)\n",
    "        successor=-1 #C=O(1)\n",
    "        d=-1 #C=O(1)\n",
    "        for nd in Graph.neighbors(node): #C=O(n)\n",
    "            if nd not in Path and (Graph[nd][node]['weight']<d or d==-1): #C=O(1)\n",
    "                successor =nd #C=O(1)\n",
    "                d=Graph[nd][node]['weight'] #C=O(1)\n",
    "        if successor==-1: return [] \n",
    "        node=successor #C=O(1)\n",
    "        Path.append(node) #C=O(1)\n",
    "    return Path"
   ]
  },
  {
   "cell_type": "code",
   "execution_count": 112,
   "metadata": {},
   "outputs": [
    {
     "data": {
      "text/plain": [
       "[1, 3, 4, 2]"
      ]
     },
     "execution_count": 112,
     "metadata": {},
     "output_type": "execute_result"
    }
   ],
   "source": [
    "NNH(testG,1)"
   ]
  },
  {
   "cell_type": "markdown",
   "metadata": {},
   "source": [
    "- *What is its time complexity?*"
   ]
  },
  {
   "cell_type": "markdown",
   "metadata": {},
   "source": [
    "We have a time complexity C=O(n^2)"
   ]
  },
  {
   "cell_type": "markdown",
   "metadata": {},
   "source": [
    "- *Find a graph for which this heuristic does not compute the shortest Hamiltonian path.*"
   ]
  },
  {
   "cell_type": "code",
   "execution_count": 126,
   "metadata": {},
   "outputs": [
    {
     "data": {
      "image/png": "[encoded data removed]",
      "text/plain": [
       "<matplotlib.figure.Figure at 0x7f7d5402a0f0>"
      ]
     },
     "metadata": {
      "needs_background": "light"
     },
     "output_type": "display_data"
    }
   ],
   "source": [
    "trapG= nx.Graph()\n",
    "trapG.add_nodes_from([1,2,3,4])\n",
    "trapG.add_weighted_edges_from([(1, 2,1),(1,3,2),(2,3,2),(2,4,1),(3,4,8)])\n",
    "pos = nx.spring_layout(trapG)\n",
    "nx.draw_networkx_nodes(trapG, pos)\n",
    "nx.draw_networkx_labels(trapG, pos)\n",
    "for edg in trapG.edges():\n",
    "     nx.draw_networkx_edges(trapG, pos, edgelist=[edg],\n",
    "                       width=2*trapG[edg[0]][edg[1]][\"weight\"])"
   ]
  },
  {
   "cell_type": "code",
   "execution_count": 130,
   "metadata": {},
   "outputs": [
    {
     "name": "stdout",
     "output_type": "stream",
     "text": [
      "exact sol :  ([1, 3, 2, 4], 5) , sol with NNH: [1, 2, 4, 3]\n"
     ]
    }
   ],
   "source": [
    "print(\"exact sol : \",HRF(trapG,1),\", sol with NNH:\",(NNH(trapG,1)))\n",
    "\n"
   ]
  },
  {
   "cell_type": "code",
   "execution_count": 120,
   "metadata": {},
   "outputs": [
    {
     "name": "stdout",
     "output_type": "stream",
     "text": [
      "1\n",
      "2\n",
      "2\n",
      "1\n",
      "4\n"
     ]
    }
   ],
   "source": [
    "for edg in trapG.edges():\n",
    "    print (trapG[edg[0]][edg[1]][\"weight\"])"
   ]
  },
  {
   "cell_type": "markdown",
   "metadata": {},
   "source": [
    "# Conclusion"
   ]
  },
  {
   "cell_type": "code",
   "execution_count": 106,
   "metadata": {},
   "outputs": [
    {
     "data": {
      "text/plain": [
       "4"
      ]
     },
     "execution_count": 106,
     "metadata": {},
     "output_type": "execute_result"
    }
   ],
   "source": []
  },
  {
   "cell_type": "code",
   "execution_count": null,
   "metadata": {},
   "outputs": [],
   "source": []
  }
 ],
 "metadata": {
  "kernelspec": {
   "display_name": "Python 3",
   "language": "python",
   "name": "python3"
  },
  "language_info": {
   "codemirror_mode": {
    "name": "ipython",
    "version": 3
   },
   "file_extension": ".py",
   "mimetype": "text/x-python",
   "name": "python",
   "nbconvert_exporter": "python",
   "pygments_lexer": "ipython3",
   "version": "3.6.9"
  }
 },
 "nbformat": 4,
 "nbformat_minor": 2
}
