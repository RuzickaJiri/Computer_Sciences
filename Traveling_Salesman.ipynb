{
 "cells": [
  {
   "cell_type": "markdown",
   "metadata": {},
   "source": [
    "# Introduction"
   ]
  },
  {
   "cell_type": "markdown",
   "metadata": {},
   "source": [
    "The travelling salesman problem is the study of the following question : \"Given a list of cities and the distances between each pair of cities, what is the shortest possible route that visits each city and returns to the origin city?\"\n",
    "\n",
    "We will try to answer this NP-hard problem by finding the shortest path visiting evert node of a non-oriented graph. This path is called a Hamiltonian path."
   ]
  },
  {
   "cell_type": "markdown",
   "metadata": {},
   "source": [
    "## Exercise 1. Exact solution"
   ]
  },
  {
   "cell_type": "markdown",
   "metadata": {},
   "source": [
    "We represent a weighted, non-oriented graph with an adjacency list. We also assume\n",
    "that a graph is always connected, i.e. that it is always possible to reach a node from any\n",
    "other node."
   ]
  },
  {
   "cell_type": "markdown",
   "metadata": {},
   "source": [
    "#### Number of Hamiltonian paths in a complete graph of size n\n"
   ]
  },
  {
   "cell_type": "markdown",
   "metadata": {},
   "source": [
    "Among a set N of n nodes, we can describe each Hamilton path as an ordered combinaison of all elements of N. It's a sequence of nodes. In a complete graph, all nodes are connected so every sequence n describes a Hamiltonian path.The number of possible sequences ${\\displaystyle A_{n}^{n}}=n!$.\n",
    "\n",
    "The number of Hamiltonian paths in a complete graph of size n is $n!$."
   ]
  },
  {
   "cell_type": "markdown",
   "metadata": {},
   "source": [
    "#### Enumerating all Hamiltonian paths starting from a node i in a graph of size n  and returning the shortest one."
   ]
  },
  {
   "cell_type": "markdown",
   "metadata": {},
   "source": [
    "We build a recursive function that returns the list of all existing Hamiltonian paths. "
   ]
  },
  {
   "cell_type": "code",
   "execution_count": 1,
   "metadata": {},
   "outputs": [],
   "source": [
    "import networkx as nx"
   ]
  },
  {
   "cell_type": "code",
   "execution_count": 2,
   "metadata": {},
   "outputs": [],
   "source": [
    "def HamiltonRecursiveLister(PathList_,Path,Graph,Currentnode): \n",
    "    Path.append(Currentnode)#C=O(1)\n",
    "    if len(Path)==Graph.number_of_nodes():#C=O(1)\n",
    "        PathList_.append(Path.copy()) #C=O(n)\n",
    "        del Path[-1]#C=O(1)\n",
    "    else:\n",
    "        for node in Graph.neighbors(Currentnode):#C=O(n-1*C(HamiltonRecursiveLister(Graph of size n-1)))\n",
    "            if node not in Path:\n",
    "                PathList_=HamiltonRecursiveLister(PathList_,Path,Graph,node) #C=O(HamiltonRecursiveLister(Graph of size n-1))\n",
    "        del Path[-1]#C=O(1)\n",
    "                \n",
    "    \n",
    "    return PathList_#C=O(1)\n",
    "    "
   ]
  },
  {
   "cell_type": "markdown",
   "metadata": {},
   "source": [
    "For a graph of size N, the time complexity is $N*(N-1)!=N!$ because in the worst case, we have $N-1!$ HP our recursive function end $N-1!$ times and each end have a complexity of $N$ dues to the copy."
   ]
  },
  {
   "cell_type": "markdown",
   "metadata": {},
   "source": [
    "We build a test to checks if our function works properly. One of its shortest Hamilton path is 1, 3, 4, 2 with a length of 3"
   ]
  },
  {
   "cell_type": "code",
   "execution_count": 3,
   "metadata": {},
   "outputs": [],
   "source": [
    "import matplotlib.pyplot as plt\n",
    "testG= nx.Graph()\n",
    "testG.add_nodes_from([1,2,3,4])\n",
    "testG.add_weighted_edges_from([(3, 1,1),(3,2,2),(4,2,1),(3,4,1)])\n",
    "nx.draw_networkx(testG)"
   ]
  },
  {
   "cell_type": "code",
   "execution_count": 4,
   "metadata": {},
   "outputs": [
    {
     "name": "stdout",
     "output_type": "stream",
     "text": [
      "[[1, 3, 2, 4], [1, 3, 4, 2]] [[2, 4, 3, 1]] [] [[4, 2, 3, 1]]\n"
     ]
    }
   ],
   "source": [
    "print(HamiltonRecursiveLister([],[],testG,1),HamiltonRecursiveLister([],[],testG,2),HamiltonRecursiveLister([],[],testG,3),HamiltonRecursiveLister([],[],testG,4))"
   ]
  },
  {
   "cell_type": "markdown",
   "metadata": {},
   "source": [
    "We can find mannualy that these are all the correct Hamiltonian paths.\n",
    "\n",
    "We now build a recursive function that enumerates all Hamiltonian paths starting from a node i in a graph of size n, and returns the shortest one."
   ]
  },
  {
   "cell_type": "code",
   "execution_count": 5,
   "metadata": {},
   "outputs": [],
   "source": [
    "#HamiltonRecursiveFinder. Takes in param a graph of size N and a node i\n",
    "def HRF(Graph,Curentnode,BestPath=[],Bestlength=-1,Pathlength=0,CurentPath=[]): \n",
    "    CurentPath.append(Curentnode) #C=O(1)\n",
    "    \n",
    "    #the end of our recursive function\n",
    "    if len(CurentPath)==Graph.number_of_nodes(): #C=O(1) (we assume this number is not calculated)\n",
    "        if Bestlength>Pathlength or Bestlength==-1: #C=O(1)\n",
    "            BestPath=CurentPath.copy() #C=O(N)\n",
    "            Bestlength=Pathlength #C=O(1)\n",
    "        del CurentPath[-1]\n",
    "        \n",
    "    else:\n",
    "        for node in Graph.neighbors(Curentnode): #C=(n-1)*C(HRF(graph of size n-1))\n",
    "            if node not in CurentPath:#C=O(1)\n",
    "                length=Pathlength+Graph[Curentnode][node]['weight']#C=O(1)\n",
    "                if length < Bestlength  or Bestlength==-1:#C=O(1)\n",
    "                    BestPath, Bestlength=HRF(Graph,node,BestPath,Bestlength,length,CurentPath)#C=O(HRF(graphe de taille n-1)\n",
    "        del CurentPath[-1] #C=O(1)\n",
    "                \n",
    "    \n",
    "    return BestPath, Bestlength"
   ]
  },
  {
   "cell_type": "markdown",
   "metadata": {},
   "source": [
    "We test it for our graph with a known shortest Hamilton Path:"
   ]
  },
  {
   "cell_type": "code",
   "execution_count": 6,
   "metadata": {},
   "outputs": [
    {
     "name": "stdout",
     "output_type": "stream",
     "text": [
      "True\n"
     ]
    }
   ],
   "source": [
    "\n",
    "print(HRF(testG,1)==([1, 3, 4, 2], 3))"
   ]
  },
  {
   "cell_type": "markdown",
   "metadata": {},
   "source": [
    "It works.\n",
    "\n",
    "For a graph of size N, the time complexity is $N*(N-1)!=N!$ because in the worst case, we have $N-1!$ HP each shorter than the previous one so our recursive function end $N-1!$ times and each end have a complexity of $N$ dues to the copy."
   ]
  },
  {
   "cell_type": "markdown",
   "metadata": {},
   "source": [
    "####  Solving the Traveling Salesman Problem"
   ]
  },
  {
   "cell_type": "markdown",
   "metadata": {},
   "source": [
    "We just need to apply our HRF function to every node of the graph and find the best solution."
   ]
  },
  {
   "cell_type": "code",
   "execution_count": 7,
   "metadata": {},
   "outputs": [],
   "source": [
    "#Traveling Salesman Problem Solver C=O(n*n!)\n",
    "def TSPS(Graph):#C=O(1)\n",
    "    Path=[]#C=O(1)\n",
    "    length=-1#C=O(1)\n",
    "    for node in Graph.nodes(): #C=O(n*n!)\n",
    "        P,d= HRF(Graph,node) #C=O(n!)\n",
    "        if (d<length or length==-1)and d!=-1:\n",
    "            Path=P\n",
    "            length=d\n",
    "    return Path,length\n",
    "        "
   ]
  },
  {
   "cell_type": "code",
   "execution_count": 8,
   "metadata": {},
   "outputs": [
    {
     "data": {
      "text/plain": [
       "([1, 3, 4, 2], 3)"
      ]
     },
     "execution_count": 8,
     "metadata": {},
     "output_type": "execute_result"
    }
   ],
   "source": [
    "TSPS(testG)"
   ]
  },
  {
   "cell_type": "markdown",
   "metadata": {},
   "source": [
    "## Exercise 2. The Nearest Neighbor heuristic"
   ]
  },
  {
   "cell_type": "markdown",
   "metadata": {},
   "source": [
    "#### Implementing the Nearest Neighbor heuristic"
   ]
  },
  {
   "cell_type": "code",
   "execution_count": 9,
   "metadata": {},
   "outputs": [],
   "source": [
    "def NNH(Graph,node):\n",
    "    Path=[node]#C=O(1)\n",
    "    N=len(Graph)#C=O(1)\n",
    "    while len(Path)<N:#C=O(n^2)\n",
    "        successor=-1 #C=O(1)\n",
    "        d=-1 #C=O(1)\n",
    "        for nd in Graph.neighbors(node): #C=O(n)\n",
    "            if nd not in Path and (Graph[nd][node]['weight']<d or d==-1): #C=O(1)\n",
    "                successor =nd #C=O(1)\n",
    "                d=Graph[nd][node]['weight'] #C=O(1)\n",
    "        if successor==-1: return [] \n",
    "        node=successor #C=O(1)\n",
    "        Path.append(node) #C=O(1)\n",
    "    return Path"
   ]
  },
  {
   "cell_type": "code",
   "execution_count": 10,
   "metadata": {},
   "outputs": [
    {
     "data": {
      "text/plain": [
       "[1, 3, 4, 2]"
      ]
     },
     "execution_count": 10,
     "metadata": {},
     "output_type": "execute_result"
    }
   ],
   "source": [
    "NNH(testG,1)"
   ]
  },
  {
   "cell_type": "markdown",
   "metadata": {},
   "source": [
    "#### Time complexity"
   ]
  },
  {
   "cell_type": "markdown",
   "metadata": {},
   "source": [
    "As you can see in our code's comments, we have a time complexity C=O(n^2)."
   ]
  },
  {
   "cell_type": "markdown",
   "metadata": {},
   "source": [
    "#### Traping the NNH "
   ]
  },
  {
   "cell_type": "markdown",
   "metadata": {},
   "source": [
    "We build a graph that will trap the NNH. To do so, we ensure that the last edges that will take the NNH have an extrmly high weight"
   ]
  },
  {
   "cell_type": "code",
   "execution_count": 11,
   "metadata": {},
   "outputs": [
    {
     "data": {
      "image/png": "[encoded data removed]",
      "text/plain": [
       "<matplotlib.figure.Figure at 0x7fcbe231fa20>"
      ]
     },
     "metadata": {
      "needs_background": "light"
     },
     "output_type": "display_data"
    }
   ],
   "source": [
    "trapG= nx.Graph()\n",
    "trapG.add_nodes_from([1,2,3,4])\n",
    "trapG.add_weighted_edges_from([(1, 2,1),(1,3,3),(2,3,2),(2,4,1),(3,4,8),(1,4,5)])\n",
    "pos = nx.spring_layout(trapG)\n",
    "nx.draw_networkx_nodes(trapG, pos)\n",
    "nx.draw_networkx_labels(trapG, pos)\n",
    "for edg in trapG.edges():\n",
    "     nx.draw_networkx_edges(trapG, pos, edgelist=[edg],\n",
    "                       width=2*trapG[edg[0]][edg[1]][\"weight\"])"
   ]
  },
  {
   "cell_type": "code",
   "execution_count": 12,
   "metadata": {},
   "outputs": [
    {
     "name": "stdout",
     "output_type": "stream",
     "text": [
      "shortest Hamiltonian path :  ([1, 3, 2, 4], 6) , solution with NNH: [1, 2, 4, 3]\n"
     ]
    }
   ],
   "source": [
    "print(\"shortest Hamiltonian path : \",HRF(trapG,1),\", solution with NNH:\",(NNH(trapG,1)))\n",
    "\n"
   ]
  },
  {
   "cell_type": "markdown",
   "metadata": {},
   "source": [
    "We found a graph for which this heuristic does not compute the shortest Hamiltonian path"
   ]
  },
  {
   "cell_type": "markdown",
   "metadata": {},
   "source": [
    "## Exercise 3. The Minimum Spanning Tree heuristic"
   ]
  },
  {
   "cell_type": "markdown",
   "metadata": {},
   "source": [
    "A spanning tree of a graph G = (V, E) is a subset F of its edges such that (V, F ) is a\n",
    "tree. A minimum spanning tree (MST) of a graph is a spanning tree that minimizes the sum\n",
    "of the weights of its edges.\n",
    "\n",
    "Here is an algorithm that computes a minimum spanning tree (Prim’s algorithm).\n",
    "\n",
    "Data: Graph G = (V, E)\n",
    "\n",
    "Result: (V, F ) a MST\n",
    "\n",
    "F ←∅\n",
    "\n",
    "W ← x 0 an arbitrary element\n",
    "\n",
    "while W != V do\n",
    "\n",
    "    Let (x, y) ∈ E the shortest edge such that x ∈ W and y ∈/ W\n",
    "\n",
    "    W ← W ∪ y\n",
    "\n",
    "    F ← F ∪ (x, y)\n",
    "\n",
    "end\n",
    "\n",
    "Result: (V, F)"
   ]
  },
  {
   "cell_type": "markdown",
   "metadata": {},
   "source": [
    "#### Time complexity\n",
    "\n",
    "If we use an heap queue and the adjacency list of the graph of size n (and in the worst case, n), we can reduce the time complexity to $C= O(n²ln(n))$\n",
    "\n",
    "Demontration: for each nodes of the queue (n-1 nodes, because the root is not in the queue) we:\n",
    "     \n",
    "- get the closest one from graph (the one at the top of the queue) $C=O(1)$\n",
    "     \n",
    "- remoove it from the queue $C=O(1)$\n",
    "    \n",
    "- update the distances from the graph for all remaining nodes in the queue. $C=O(n * ln(n))$\n",
    "     \n",
    "- sort the queue to have the new closest one from the graph at the top of the queue. $C=O(n * ln(n))$\n",
    "\n",
    "So the final complexity is $C=O(n²ln(n))$\n"
   ]
  },
  {
   "cell_type": "markdown",
   "metadata": {},
   "source": [
    "#### Proof that Prim’s algorithm returns a spanning tree.\n",
    "\n"
   ]
  },
  {
   "cell_type": "markdown",
   "metadata": {},
   "source": [
    "We use a proof based on induction\n",
    "\n",
    "Mathematical induction:\n",
    "\n",
    "    Base case: W=x0, F=∅, is a tree: (WF) is Acyclic and Connected\n",
    "    \n",
    "    Induction step: lets assume that the subgraph (W, F ) is a tree, we show that (W U y,F ∪ (x, y)) is a tree, with (x, y) ∈ E the shortest edge such that x ∈ W and y ∈/ W\n",
    "    \n",
    "        If we remove any edge e of F, (W,F) is disconnected (definition of a tree). It forms two connected subgraphs W1,W2. x∈W1 (resp W2). y∈/W1 , y∈/W2 and y is connected to W1 (resp W2). (W U y =W1 U y + W2 ,F ∪ (x, y) /{e}) is disconnected. If we remove the edge (x,y), there is, by construction, no edge between y and W. (W U y,F ) is disconnected. If we remove any edge from (W U y,F ∪ (x, y)), it is disconnected. Thus (W U y,F ∪ (x, y)) is a tree.\n",
    "    \n",
    "    Conclusion: during each iteration of the while loop, the subgraph (W, F ) is a tree.\n",
    "    \n",
    "    At the end of Prim’s algorithm (W, F) is a tree, V=W and F∈E. Prim’s algorithm returns a spanning tree of Graph (V,E)."
   ]
  },
  {
   "cell_type": "markdown",
   "metadata": {},
   "source": [
    "#### Prim’s algorithm returns  a MST \n",
    "\n",
    "let assume that prim's algorithme return a tree PT that is longer than the MST of a graph G(but because the first node is does not mater for the Prims'algorithme, we assume they have the same root) .\n",
    "they both have the same number of edges (fixed for a tree of n nodes)\n",
    "lets walk trough the nodes of PT and MST until we find  different edges. (they start from the same node)\n",
    " e1=(x-y) and e2=(x-y'). Lets X and Y resp Y' be the disconected tree of PT-{(x-y)} resp PT-{(x-y')} with x ∈ X and y ∈/ X ,y'/X , y ∈ Y and Y', y'∈ Y' and Y\n",
    " by construction of PT, e1 ≤ e2. becase both b and b' are not in A.  X U Y' +{e1} is a ST of G: (it contain all nodes of G and if we remoove any egdes of X or Y', they are disconected because they are trees and if we remoove e1, X and Y' are disconected so its a tree). Moreover, the length of X U Y' +{e1} = length(MST)+e1-e2 ≤ length(MST). By definition of the MST,  X U Y' +{e1} = length(MST) and X U Y' +{e1} is a MST. this mst\n"
   ]
  },
  {
   "cell_type": "markdown",
   "metadata": {},
   "source": [
    "A tree does not spread throughout sexual intercours. Prim's algorithm return a tree. FALSE. HA HA HA ... (only work for a french guy reading the english question)"
   ]
  },
  {
   "cell_type": "markdown",
   "metadata": {},
   "source": [
    "#### Implementing Prim's algorithm\n"
   ]
  },
  {
   "cell_type": "markdown",
   "metadata": {},
   "source": [
    "We buid two different methodes, one with high time complexity, but we are sure it is working. The other one with lower time complexity (the same as proposed in the time complexity part). We use the first one to verifie the second one."
   ]
  },
  {
   "cell_type": "code",
   "execution_count": 13,
   "metadata": {},
   "outputs": [],
   "source": [
    "import numpy as np\n",
    "def Prims(Graph):\n",
    "    V=set(Graph.nodes)\n",
    "    edges=list(trapG.edges())\n",
    "    sort=np.argsort([trapG[edg[0]][edg[1]][\"weight\"]for edg in edges]) #sort edges by length.\n",
    "    E=[edges[s] for s in sort]\n",
    "    F=[]\n",
    "    W={list(Graph.nodes())[0]}\n",
    "    while len(W)<len(V):#C= O(n³ln(n)) #for each edge we find the shortest edge (x,y) such that x ∈ W and y ∈/ W\n",
    "        for edge in E:#C=O(len(edge)*ln(len(n))) = O(n²ln(n))\n",
    "            if (edge[0] not in W and edge[1] in W): #C=O(ln(len(W))) =O(ln(n))\n",
    "                F.append(edge) #C=O(1)\n",
    "                W.add(edge[0]) #C=O(1)\n",
    "                break\n",
    "            elif (edge[1]not in W and edge[0] in W):#C=O(ln(len(W)) =O(ln(n))\n",
    "                F.append(edge)#C=O(1)\n",
    "                W.add(edge[1])#C=O(1)\n",
    "                break\n",
    "    return (W,F)\n",
    "        "
   ]
  },
  {
   "cell_type": "code",
   "execution_count": 14,
   "metadata": {},
   "outputs": [],
   "source": [
    "import math as m\n",
    "import heapq as hp\n",
    "def Prims2(Graph):\n",
    "    \n",
    "    #Initialisaton \n",
    "    \n",
    "    Node=1 #we assume that our graph as one node caled \"1\" it's our root\n",
    "    W=[list(Graph.nodes())[0]] #W is the list of nodes of our tree\n",
    "    F=[] # F is the list of edges of our tree\n",
    "    Hqueue=[] #Hqueue is the list of nodes not in our tree sorted by their distance to it:\n",
    "                    #The smallest weight of the edges that connect them to the tree\n",
    "                    # inf if the node is not connected to the tree\n",
    "            \n",
    "    # Initialisation of the Queue       \n",
    "    for node in Graph.nodes:\n",
    "        if node != Node:\n",
    "            if node in Graph[Node]:\n",
    "                Hqueue.append((Graph[Node][node][\"weight\"],(node,Node)))\n",
    "            else:\n",
    "                Hqueue.append((m.inf,(node,Node)))\n",
    "    hp.heapify(Hqueue) # C=O(n ln(n)) (sort algorithme)\n",
    "                              \n",
    "    # Main loop of the algorithme. \n",
    "\n",
    "    while len(Hqueue)!=0: #at eauch iteration a node leave the queue so there are n-1 iteration C(while)=O(n²ln(n))\n",
    "        # At each iteration we pop the closest node to the graph (ie, the one at the beggining of the Hqueue)\n",
    "        Pop=hp.heappop(Hqueue) #C=O(1)\n",
    "        edge=Pop[1] #C=O(1) \n",
    "        Node=Pop[1][0] #C=O(1)\n",
    "        F.append(edge) #C=O(1) We add the edge to F\n",
    "        W.append(Node) #C=O(1) We then add the node to W\n",
    "                              \n",
    "        #We then update the distances to Graph for each node:\n",
    "        for i in range(len(Hqueue)): #n iteration max, C(for)=O(n ln(n)\n",
    "            if Hqueue[i][1][0] in Graph[Node]: #search in Dict: C=O(ln(n))\n",
    "                if(Graph[Node][Hqueue[i][1][0]][\"weight\"]<Hqueue[i][0]):\n",
    "                    Hqueue[i]=(Graph[Node][Hqueue[i][1][0]][\"weight\"],(Hqueue[i][1][0],Node)) #C=O(1)\n",
    "                                                                           #(Hqueue[i],Node) as one node in W, one out\n",
    "        \n",
    "        hp.heapify(Hqueue) # we sort the heapqueu C=O(n ln(n)) (sort algorithm)\n",
    "    return W,F"
   ]
  },
  {
   "cell_type": "code",
   "execution_count": 15,
   "metadata": {},
   "outputs": [
    {
     "data": {
      "text/plain": [
       "(({1, 2, 3, 4}, [(1, 2), (2, 4), (2, 3)]),\n",
       " ([1, 2, 4, 3], [(2, 1), (4, 2), (3, 2)]))"
      ]
     },
     "execution_count": 15,
     "metadata": {},
     "output_type": "execute_result"
    }
   ],
   "source": [
    "Prims(trapG), Prims2(trapG)"
   ]
  },
  {
   "cell_type": "markdown",
   "metadata": {},
   "source": [
    "#### Hamiltonian cycle deduced from the MST "
   ]
  },
  {
   "cell_type": "markdown",
   "metadata": {},
   "source": [
    " The triangular inequality is the following inequality:∀x, y, z ∈ V, w(x, z) ≤ w(x, y) + w(y, z),where w(x, y) is the weight of edge x → y (more direct paths are shorter). We assume that a graph verifies the triangle inequality\n",
    "\n",
    "\n",
    "1- An Hamiltonian cycle of the graph is a spamming tree of the graph. So by deffinition, the length of the MST is shorter or equal than the shortest Hamiltonian cycle SHP of the graph. \n",
    "\n",
    "2- Let W be full walk  (visiting all the nodes) of the MST. W as a length of at most twice the length of the MST. Because in the worst case, you have to go trough each edges twice.\n",
    "W may not be an Hamilton path because of duplicats. (if it is , W=MST=SHP and the MST is the shortest Hamilton path (1-)and length(MST)≤2 length(MST) )\n",
    "To build the Hamilton path from W , We read W nodes by node. \n",
    "each time a node N is seen for the second time, we remoove it from the walk. W(...-N-...-A-N-B-...) became W'(-N-...-A-B-...)\n",
    "Because of the triangular inequality w(A-B)≤w(A-N)+w(N-B) so the length of W' ≤ length of W ≤ 2 length MST . \n",
    "\n",
    "When all duplicat have been remooved, the path is an Hamilton path (each node are in the path exacly ones) and its length  is shorter than twice the length of the MST. Lest call this path HMST. Its the Hamiltonian cycle obtained by visiting the MST\n",
    "\n",
    "because of (1-) we have: 2 length(MST)≤ 2 length(SHP)\n",
    "because of (2-) we have: length(H)≤ 2 length(MST)\n",
    "In conclusion, length(H)≤ 2 length(S)\n",
    "\n",
    "\n",
    "**Assuming that the graph verifies the triangle inequality, the length of the Hamiltonian cycle obtained by visiting the MST is less than twice the length of the shortest Hamiltonian cycle of the graph.**\n"
   ]
  }
 ],
 "metadata": {
  "kernelspec": {
   "display_name": "Python 3",
   "language": "python",
   "name": "python3"
  },
  "language_info": {
   "codemirror_mode": {
    "name": "ipython",
    "version": 3
   },
   "file_extension": ".py",
   "mimetype": "text/x-python",
   "name": "python",
   "nbconvert_exporter": "python",
   "pygments_lexer": "ipython3",
   "version": "3.6.9"
  }
 },
 "nbformat": 4,
 "nbformat_minor": 2
}
