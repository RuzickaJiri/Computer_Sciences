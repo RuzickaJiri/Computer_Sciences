{
 "cells": [
  {
   "cell_type": "markdown",
   "metadata": {},
   "source": [
    "# Introduction"
   ]
  },
  {
   "cell_type": "markdown",
   "metadata": {},
   "source": [
    "*Saccharomyces cerevisiae* is a yeast, a small single-cell eukaryote, known for its fermentation abilities. It has been used for winemaking, baking, and brewing since first emerging civilizations. Thanks to its characteristics, *Saccharomyces cerevisiae* is examined as a convenient model organism.\n",
    "\n",
    "We are going to study its  gene regulatory network using graph theory and python **networkx** library."
   ]
  },
  {
   "cell_type": "markdown",
   "metadata": {},
   "source": [
    "# Exploration and characterization of the gene regulatory network"
   ]
  },
  {
   "cell_type": "code",
   "execution_count": 1,
   "metadata": {},
   "outputs": [
    {
     "data": {
      "text/plain": [
       "'2.0'"
      ]
     },
     "execution_count": 1,
     "metadata": {},
     "output_type": "execute_result"
    }
   ],
   "source": [
    "import networkx as ntx\n",
    "import numpy as np\n",
    "import pandas as pd\n",
    "import seaborn as sns\n",
    "import matplotlib.pyplot as plt\n",
    "from networkx.drawing.nx_agraph import graphviz_layout\n",
    "import pygraphviz as pgv\n",
    "ntx.__version__"
   ]
  },
  {
   "cell_type": "markdown",
   "metadata": {},
   "source": [
    "The file *GRN_edges_S_cerevisiae.txt* contains the edges between transcription factors and target genes. We will use it to create our graph. We drop the first column which has no further interest."
   ]
  },
  {
   "cell_type": "code",
   "execution_count": 2,
   "metadata": {},
   "outputs": [],
   "source": [
    "network = pd.read_csv(\"GRN_edges_S_cerevisiae.txt\", sep = ',', header=0)\n",
    "gene = pd.read_table(\"net4_gene_ids.tsv\", sep = '\\t')\n",
    "transcription= pd.read_table('net4_transcription_factors.tsv')\n",
    "mapping = pd.read_table('go_slim_mapping.tab.txt', header = None)\n",
    "network = network.drop('Unnamed: 0', axis=1)"
   ]
  },
  {
   "cell_type": "markdown",
   "metadata": {},
   "source": [
    "We print every dataframe to see its content. *network* contains the relations between transcription factors and target genes, *gene* the name of genes within their ids, *transcription* the list of transcription factors. In *mapping*, we'll use the gene names (first column) and the Gene Ontology annotation (sixth column)."
   ]
  },
  {
   "cell_type": "code",
   "execution_count": 3,
   "metadata": {
    "scrolled": true
   },
   "outputs": [
    {
     "data": {
      "text/html": [
       "<div>\n",
       "<style scoped>\n",
       "    .dataframe tbody tr th:only-of-type {\n",
       "        vertical-align: middle;\n",
       "    }\n",
       "\n",
       "    .dataframe tbody tr th {\n",
       "        vertical-align: top;\n",
       "    }\n",
       "\n",
       "    .dataframe thead th {\n",
       "        text-align: right;\n",
       "    }\n",
       "</style>\n",
       "<table border=\"1\" class=\"dataframe\">\n",
       "  <thead>\n",
       "    <tr style=\"text-align: right;\">\n",
       "      <th></th>\n",
       "      <th>transcription_factor</th>\n",
       "      <th>target_gene</th>\n",
       "    </tr>\n",
       "  </thead>\n",
       "  <tbody>\n",
       "    <tr>\n",
       "      <th>0</th>\n",
       "      <td>G15</td>\n",
       "      <td>G1</td>\n",
       "    </tr>\n",
       "    <tr>\n",
       "      <th>1</th>\n",
       "      <td>G98</td>\n",
       "      <td>G1</td>\n",
       "    </tr>\n",
       "    <tr>\n",
       "      <th>2</th>\n",
       "      <td>G109</td>\n",
       "      <td>G1</td>\n",
       "    </tr>\n",
       "    <tr>\n",
       "      <th>3</th>\n",
       "      <td>G22</td>\n",
       "      <td>G9</td>\n",
       "    </tr>\n",
       "    <tr>\n",
       "      <th>4</th>\n",
       "      <td>G211</td>\n",
       "      <td>G11</td>\n",
       "    </tr>\n",
       "  </tbody>\n",
       "</table>\n",
       "</div>"
      ],
      "text/plain": [
       "  transcription_factor target_gene\n",
       "0                  G15          G1\n",
       "1                  G98          G1\n",
       "2                 G109          G1\n",
       "3                  G22          G9\n",
       "4                 G211         G11"
      ]
     },
     "execution_count": 3,
     "metadata": {},
     "output_type": "execute_result"
    }
   ],
   "source": [
    "network.head()"
   ]
  },
  {
   "cell_type": "code",
   "execution_count": 4,
   "metadata": {},
   "outputs": [
    {
     "data": {
      "text/html": [
       "<div>\n",
       "<style scoped>\n",
       "    .dataframe tbody tr th:only-of-type {\n",
       "        vertical-align: middle;\n",
       "    }\n",
       "\n",
       "    .dataframe tbody tr th {\n",
       "        vertical-align: top;\n",
       "    }\n",
       "\n",
       "    .dataframe thead th {\n",
       "        text-align: right;\n",
       "    }\n",
       "</style>\n",
       "<table border=\"1\" class=\"dataframe\">\n",
       "  <thead>\n",
       "    <tr style=\"text-align: right;\">\n",
       "      <th></th>\n",
       "      <th>ID</th>\n",
       "      <th>Name</th>\n",
       "    </tr>\n",
       "  </thead>\n",
       "  <tbody>\n",
       "    <tr>\n",
       "      <th>0</th>\n",
       "      <td>G1</td>\n",
       "      <td>YHR084W</td>\n",
       "    </tr>\n",
       "    <tr>\n",
       "      <th>1</th>\n",
       "      <td>G2</td>\n",
       "      <td>YER109C</td>\n",
       "    </tr>\n",
       "    <tr>\n",
       "      <th>2</th>\n",
       "      <td>G3</td>\n",
       "      <td>YDR496C</td>\n",
       "    </tr>\n",
       "    <tr>\n",
       "      <th>3</th>\n",
       "      <td>G4</td>\n",
       "      <td>YBR098W</td>\n",
       "    </tr>\n",
       "    <tr>\n",
       "      <th>4</th>\n",
       "      <td>G5</td>\n",
       "      <td>YNL139C</td>\n",
       "    </tr>\n",
       "  </tbody>\n",
       "</table>\n",
       "</div>"
      ],
      "text/plain": [
       "   ID     Name\n",
       "0  G1  YHR084W\n",
       "1  G2  YER109C\n",
       "2  G3  YDR496C\n",
       "3  G4  YBR098W\n",
       "4  G5  YNL139C"
      ]
     },
     "execution_count": 4,
     "metadata": {},
     "output_type": "execute_result"
    }
   ],
   "source": [
    "gene.head()"
   ]
  },
  {
   "cell_type": "code",
   "execution_count": 5,
   "metadata": {},
   "outputs": [
    {
     "data": {
      "text/html": [
       "<div>\n",
       "<style scoped>\n",
       "    .dataframe tbody tr th:only-of-type {\n",
       "        vertical-align: middle;\n",
       "    }\n",
       "\n",
       "    .dataframe tbody tr th {\n",
       "        vertical-align: top;\n",
       "    }\n",
       "\n",
       "    .dataframe thead th {\n",
       "        text-align: right;\n",
       "    }\n",
       "</style>\n",
       "<table border=\"1\" class=\"dataframe\">\n",
       "  <thead>\n",
       "    <tr style=\"text-align: right;\">\n",
       "      <th></th>\n",
       "      <th>transcription_factor</th>\n",
       "    </tr>\n",
       "  </thead>\n",
       "  <tbody>\n",
       "    <tr>\n",
       "      <th>0</th>\n",
       "      <td>G1</td>\n",
       "    </tr>\n",
       "    <tr>\n",
       "      <th>1</th>\n",
       "      <td>G2</td>\n",
       "    </tr>\n",
       "    <tr>\n",
       "      <th>2</th>\n",
       "      <td>G3</td>\n",
       "    </tr>\n",
       "    <tr>\n",
       "      <th>3</th>\n",
       "      <td>G4</td>\n",
       "    </tr>\n",
       "    <tr>\n",
       "      <th>4</th>\n",
       "      <td>G5</td>\n",
       "    </tr>\n",
       "  </tbody>\n",
       "</table>\n",
       "</div>"
      ],
      "text/plain": [
       "  transcription_factor\n",
       "0                   G1\n",
       "1                   G2\n",
       "2                   G3\n",
       "3                   G4\n",
       "4                   G5"
      ]
     },
     "execution_count": 5,
     "metadata": {},
     "output_type": "execute_result"
    }
   ],
   "source": [
    "transcription.head()"
   ]
  },
  {
   "cell_type": "code",
   "execution_count": 6,
   "metadata": {},
   "outputs": [
    {
     "data": {
      "text/html": [
       "<div>\n",
       "<style scoped>\n",
       "    .dataframe tbody tr th:only-of-type {\n",
       "        vertical-align: middle;\n",
       "    }\n",
       "\n",
       "    .dataframe tbody tr th {\n",
       "        vertical-align: top;\n",
       "    }\n",
       "\n",
       "    .dataframe thead th {\n",
       "        text-align: right;\n",
       "    }\n",
       "</style>\n",
       "<table border=\"1\" class=\"dataframe\">\n",
       "  <thead>\n",
       "    <tr style=\"text-align: right;\">\n",
       "      <th></th>\n",
       "      <th>0</th>\n",
       "      <th>1</th>\n",
       "      <th>2</th>\n",
       "      <th>3</th>\n",
       "      <th>4</th>\n",
       "      <th>5</th>\n",
       "      <th>6</th>\n",
       "    </tr>\n",
       "  </thead>\n",
       "  <tbody>\n",
       "    <tr>\n",
       "      <th>0</th>\n",
       "      <td>HRA1</td>\n",
       "      <td>HRA1</td>\n",
       "      <td>S000119380</td>\n",
       "      <td>C</td>\n",
       "      <td>cellular_component</td>\n",
       "      <td>GO:0005575</td>\n",
       "      <td>ncRNA_gene</td>\n",
       "    </tr>\n",
       "    <tr>\n",
       "      <th>1</th>\n",
       "      <td>HRA1</td>\n",
       "      <td>HRA1</td>\n",
       "      <td>S000119380</td>\n",
       "      <td>F</td>\n",
       "      <td>molecular_function</td>\n",
       "      <td>GO:0003674</td>\n",
       "      <td>ncRNA_gene</td>\n",
       "    </tr>\n",
       "    <tr>\n",
       "      <th>2</th>\n",
       "      <td>HRA1</td>\n",
       "      <td>HRA1</td>\n",
       "      <td>S000119380</td>\n",
       "      <td>P</td>\n",
       "      <td>rRNA processing</td>\n",
       "      <td>GO:0006364</td>\n",
       "      <td>ncRNA_gene</td>\n",
       "    </tr>\n",
       "    <tr>\n",
       "      <th>3</th>\n",
       "      <td>HRA1</td>\n",
       "      <td>HRA1</td>\n",
       "      <td>S000119380</td>\n",
       "      <td>P</td>\n",
       "      <td>ribosomal small subunit biogenesis</td>\n",
       "      <td>GO:0042274</td>\n",
       "      <td>ncRNA_gene</td>\n",
       "    </tr>\n",
       "    <tr>\n",
       "      <th>4</th>\n",
       "      <td>ICR1</td>\n",
       "      <td>ICR1</td>\n",
       "      <td>S000132612</td>\n",
       "      <td>C</td>\n",
       "      <td>nucleus</td>\n",
       "      <td>GO:0005634</td>\n",
       "      <td>ncRNA_gene</td>\n",
       "    </tr>\n",
       "  </tbody>\n",
       "</table>\n",
       "</div>"
      ],
      "text/plain": [
       "      0     1           2  3                                   4           5  \\\n",
       "0  HRA1  HRA1  S000119380  C                  cellular_component  GO:0005575   \n",
       "1  HRA1  HRA1  S000119380  F                  molecular_function  GO:0003674   \n",
       "2  HRA1  HRA1  S000119380  P                     rRNA processing  GO:0006364   \n",
       "3  HRA1  HRA1  S000119380  P  ribosomal small subunit biogenesis  GO:0042274   \n",
       "4  ICR1  ICR1  S000132612  C                             nucleus  GO:0005634   \n",
       "\n",
       "            6  \n",
       "0  ncRNA_gene  \n",
       "1  ncRNA_gene  \n",
       "2  ncRNA_gene  \n",
       "3  ncRNA_gene  \n",
       "4  ncRNA_gene  "
      ]
     },
     "execution_count": 6,
     "metadata": {},
     "output_type": "execute_result"
    }
   ],
   "source": [
    "mapping.head()"
   ]
  },
  {
   "cell_type": "markdown",
   "metadata": {},
   "source": [
    "We create our directed graph. It contains 1994 nodes and 3940 edges with average in-degree of 1.9759."
   ]
  },
  {
   "cell_type": "code",
   "execution_count": 7,
   "metadata": {},
   "outputs": [
    {
     "data": {
      "text/plain": [
       "'Name: \\nType: DiGraph\\nNumber of nodes: 1994\\nNumber of edges: 3940\\nAverage in degree:   1.9759\\nAverage out degree:   1.9759'"
      ]
     },
     "execution_count": 7,
     "metadata": {},
     "output_type": "execute_result"
    }
   ],
   "source": [
    "G = ntx.DiGraph()\n",
    "G = ntx.from_pandas_edgelist(network, 'transcription_factor', 'target_gene', create_using = ntx.DiGraph())\n",
    "ntx.info(G)"
   ]
  },
  {
   "cell_type": "markdown",
   "metadata": {},
   "source": [
    "## Plotting the network"
   ]
  },
  {
   "cell_type": "code",
   "execution_count": 8,
   "metadata": {},
   "outputs": [
    {
     "data": {
      "image/png": "[encoded data removed]",
      "text/plain": [
       "<matplotlib.figure.Figure at 0x7f2ed97d60d0>"
      ]
     },
     "metadata": {},
     "output_type": "display_data"
    }
   ],
   "source": [
    "ntx.draw(G)"
   ]
  },
  {
   "cell_type": "markdown",
   "metadata": {},
   "source": [
    "We draw the network using *draw()* method. This image is not really clear. In order to get a better representation of the graph, we have to find another method."
   ]
  },
  {
   "cell_type": "code",
   "execution_count": 9,
   "metadata": {},
   "outputs": [],
   "source": [
    "both_genes = set(network['transcription_factor']).intersection(network['target_gene'])\n",
    "regulatory_genes = set(network['transcription_factor']) - set(both_genes)\n",
    "target_genes = set(network['target_gene']) - set(both_genes)"
   ]
  },
  {
   "cell_type": "code",
   "execution_count": null,
   "metadata": {},
   "outputs": [],
   "source": [
    "plt.figure(figsize=(20,20))\n",
    "ntx.draw_networkx_edges(G, pos = ntx.spring_layout(G), edgelist = list(G.edges()))\n",
    "ntx.draw_networkx_nodes(G, nodelist= list(both_genes), \n",
    "                       node_color = 'g',  pos = ntx.spring_layout(G), with_labels = False, node_size = 30)\n",
    "ntx.draw_networkx_nodes(G, nodelist= list(regulatory_genes), \n",
    "                       node_color = 'b',  pos = ntx.spring_layout(G), with_labels = False, node_size = 30)\n",
    "ntx.draw_networkx_nodes(G, nodelist=list(target_genes) , \n",
    "                       node_color = 'r',  pos = ntx.spring_layout(G), with_labels = False, node_size = 30)"
   ]
  },
  {
   "cell_type": "markdown",
   "metadata": {},
   "source": [
    "Even though this image, created using *ntx.spring_layout*, gives us a better idea about the disposition of factors and genes in the graph, we would like to get a shape that specifies if there are some particular parts in the graph. For that, we'll use the *nx_agraph.graphviz_layout* method."
   ]
  },
  {
   "cell_type": "code",
   "execution_count": null,
   "metadata": {},
   "outputs": [],
   "source": [
    "plt.figure(figsize=(20,20))\n",
    "ntx.draw_networkx_edges(G, pos = ntx.nx_agraph.graphviz_layout(G), edgelist = list(G.edges()))\n",
    "ntx.draw_networkx_nodes(G, nodelist= list(both_genes), node_color = 'g', \\\n",
    "                        pos = ntx.nx_agraph.graphviz_layout(G), with_labels = False, node_size = 30)\n",
    "ntx.draw_networkx_nodes(G, nodelist= list(regulatory_genes), node_color = 'b',  \\\n",
    "                        pos = ntx.nx_agraph.graphviz_layout(G), with_labels = False, node_size = 30)\n",
    "ntx.draw_networkx_nodes(G, nodelist=list(target_genes) , node_color = 'r', \\\n",
    "                        pos = ntx.nx_agraph.graphviz_layout(G), with_labels = False, node_size = 30)"
   ]
  },
  {
   "cell_type": "markdown",
   "metadata": {},
   "source": [
    "This representation shows the major links between the target genes only (red), transcription factors only (blue) and the genes that accomplish both roles (green). We see that one factor often regulates a whole bunch of genes. In few cases, this relation is unconnected to the rest of the graph.  \n",
    "\n",
    "We define a new method which allows us to use simply *nx_agraph.graphviz_layout()*."
   ]
  },
  {
   "cell_type": "code",
   "execution_count": null,
   "metadata": {},
   "outputs": [],
   "source": [
    "def draw_agraph(G, nodes):\n",
    "    plt.figure(figsize=(20,20))\n",
    "    col = ['#084594', '#2171b5', '#4292c6', '#6baed6', '#9ecae1', '#c6dbef', '#deebf7', '#f7fbff']\n",
    "    ntx.draw_networkx_edges(G, pos = ntx.nx_agraph.graphviz_layout(G), edgelist = list(G.edges()))\n",
    "    for i in range(len(nodes)):\n",
    "        ntx.draw_networkx_nodes(G, pos = ntx.nx_agraph.graphviz_layout(G), \\\n",
    "                                nodelist = nodes[i], node_color = col[i], \\\n",
    "                                with_labels = False, node_size = 30)"
   ]
  },
  {
   "cell_type": "markdown",
   "metadata": {},
   "source": [
    "## Network metrics"
   ]
  },
  {
   "cell_type": "markdown",
   "metadata": {},
   "source": [
    "#### Clustering coefficient"
   ]
  },
  {
   "cell_type": "markdown",
   "metadata": {},
   "source": [
    "To calculate the clustering coefficient of a node, we use the following formula :"
   ]
  },
  {
   "cell_type": "markdown",
   "metadata": {
    "scrolled": true
   },
   "source": [
    "$C = {\\frac {\\mbox{number of closed triplets}}{\\mbox{number of all triplets (open and closed)}}}$"
   ]
  },
  {
   "cell_type": "code",
   "execution_count": null,
   "metadata": {},
   "outputs": [],
   "source": [
    "clust_coef = ntx.average_clustering(G)\n",
    "clust_coef"
   ]
  },
  {
   "cell_type": "markdown",
   "metadata": {},
   "source": [
    "The clustering coefficient measures the degree to which nodes in a graph tend to cluster together. In this graph, it is very low : around 0.044. The nodes are not very connected to each other to make clusters."
   ]
  },
  {
   "cell_type": "markdown",
   "metadata": {},
   "source": [
    "#### Betweenness centrality"
   ]
  },
  {
   "cell_type": "code",
   "execution_count": null,
   "metadata": {},
   "outputs": [],
   "source": [
    "btw_ctr = ntx.betweenness_centrality(G)\n",
    "plt.hist(btw_ctr.values(), bins=20)"
   ]
  },
  {
   "cell_type": "markdown",
   "metadata": {},
   "source": [
    "Betweeness centrality is defined as the number of shortest paths, among any pair of nodes, passing by a given vertex (node). \n",
    "\n",
    "We can see that in our case it is often very low. Majority of nodes (cca 1973 of 1994) figure in a very small number of shortest paths (0 or 1). "
   ]
  },
  {
   "cell_type": "markdown",
   "metadata": {},
   "source": [
    "#### Degrees in and out"
   ]
  },
  {
   "cell_type": "code",
   "execution_count": null,
   "metadata": {},
   "outputs": [],
   "source": [
    "adj_G = ntx.to_numpy_matrix(G, nodelist=G.nodes())\n",
    "adjacency = pd.DataFrame(adj_G)\n",
    "in_degree = adjacency.sum(axis=0).sort_values() \n",
    "out_degree = adjacency.sum(axis=1).sort_values() "
   ]
  },
  {
   "cell_type": "code",
   "execution_count": null,
   "metadata": {},
   "outputs": [],
   "source": [
    "print(max(in_degree))\n",
    "sns.distplot(in_degree)"
   ]
  },
  {
   "cell_type": "markdown",
   "metadata": {},
   "source": [
    "The histogram of in-degree seems to follow the Chi-squared distribution. Most of the nodes have only one incoming edge (final point of the regulatory network). Quantity of nodes having others incoming edges decrease with the maximum of 14."
   ]
  },
  {
   "cell_type": "code",
   "execution_count": null,
   "metadata": {},
   "outputs": [],
   "source": [
    "print(max(out_degree))\n",
    "sns.distplot(out_degree)"
   ]
  },
  {
   "cell_type": "markdown",
   "metadata": {},
   "source": [
    "As expected, majority of the network has no out-coming edge (corresponds to the target genes only). The regulation is thus confined in a small community of genes and factors (this was also clear in the plots). Maximum of the out-degree is 217, so there is a gene (factor) regulating 217 other genes!"
   ]
  },
  {
   "cell_type": "markdown",
   "metadata": {},
   "source": []
  },
  {
   "cell_type": "markdown",
   "metadata": {},
   "source": [
    "## K-shell decomposition"
   ]
  },
  {
   "cell_type": "markdown",
   "metadata": {},
   "source": [
    "K–shell (or k–core) decomposition is an algorithm for analyzing the structure of large–scale graphs. It provides a method for identifying hierarchies in a network. \n",
    "\n",
    "The *k-shell* instance provides us with a list of lists where the nodes in every layer has a degree corresponding to its index (and the nodes getting this degree by removing other nodes recursively).\n",
    "\n",
    "The *k-core* instance is a list of lists containing the nodes surviving in the graph after the removal."
   ]
  },
  {
   "cell_type": "code",
   "execution_count": null,
   "metadata": {},
   "outputs": [],
   "source": [
    "def k_shell(G):\n",
    "    k = 1\n",
    "    G_ = G.copy()\n",
    "    k_shell = []\n",
    "    k_core = []\n",
    "    \n",
    "    degrees = list(G_.degree())\n",
    "    only_deg = []\n",
    "    for i in range(len(degrees)):\n",
    "        only_deg.append(degrees[i][1])\n",
    "    \n",
    "    while G_.number_of_nodes() > 0:\n",
    "        while True in [True for c in range(k+1) if c in only_deg]:\n",
    "            for n, d in list(G_.degree()):\n",
    "                if d <= k :\n",
    "                    if len(k_shell) >= k:\n",
    "                        k_shell[k-1].append(n)\n",
    "                    else:\n",
    "                        k_shell.append([n])\n",
    "                    G_.remove_node(n)\n",
    "            \n",
    "            degrees = list(G_.degree())\n",
    "            only_deg = []\n",
    "            for i in range(len(degrees)):\n",
    "                only_deg.append(degrees[i][1])\n",
    "                \n",
    "        k_core.append(list(G_.nodes()))\n",
    "        print(\"k\", k)\n",
    "        print(\"nb of nodes\", G_.number_of_nodes()) \n",
    "        k = k+1\n",
    "    return k_core, k_shell\n",
    "                \n",
    "G_core = k_shell(G)[1]\n",
    "draw_agraph(G, G_core)"
   ]
  },
  {
   "cell_type": "markdown",
   "metadata": {},
   "source": [
    "Nodes colored in blue are in the first layers of the k-shell, they have been removed in first so they are not in the core of the graph. Nodes in white form the true heart of the graph - they have been removed in the last moments of the decomposition."
   ]
  },
  {
   "cell_type": "code",
   "execution_count": null,
   "metadata": {},
   "outputs": [],
   "source": []
  },
  {
   "cell_type": "markdown",
   "metadata": {},
   "source": [
    "# Community detection"
   ]
  },
  {
   "cell_type": "markdown",
   "metadata": {},
   "source": [
    "### Girvan–Newman algorithm"
   ]
  },
  {
   "cell_type": "markdown",
   "metadata": {},
   "source": [
    "The Girvan-Newman algorithm is a method used to find communities in complex graphs. The goal of this method is to identify the edges probably binding communities, and to remove them in order to get individual communities.\n",
    "\n",
    "The algorithm works this way:\n",
    "- calculate the betweenness of all edges in the graph\n",
    "- remove the edges having the highest betweenness\n",
    "- calculate again the betweenness of the edges \n",
    "- get back to the second and third step\n",
    "\n",
    "Indeed, the first edges to be removed will have the highest betweenness, and so will be used a lot to make a shortest path between two nodes of the graph. We can say then that the edges are used as bridges between the different communities, and many are crossed to go from one side of the cluster to another."
   ]
  },
  {
   "cell_type": "markdown",
   "metadata": {},
   "source": [
    "#### Time Complexity:\n",
    "    1- number of steps: Each step of the algorithme continue until the algorithme continue untils all edges have been remmooved. The number of step is the number of edges E.\n",
    "    2- Calculating the highest betweeness centrality for a graph with E and N nodes edges. Calculating  all the shortest path (C=O(N * (N+E)ln(N))) and counting for each edgges the number of path, keeping trace of the highest one. N is the number nodes and (N+E)ln(N) the complexity of Djikstra algorithm to find all shortest path starting from the same node. \n",
    "    Conclusion: C=O(E*N*(N+E)ln(N))in the worst case: E=N². C=O(N⁵ln(N)) \n",
    "    \n",
    "However, we found in literature (*L.Despalatovi, T.Vojkovie and Damir Vukicevie \"Community structure in networks:Girvan-Newman algorithm improvement\",MIPRO 2014, 26-30 May 2014, Opatija, Croatia*) ́that calculating the betweeness centrality for each edges has actualy an complexity C=O(EN)<O(N * (N+E)ln(N))) The time complexity of Girvan–Newman  algorithm is therefor :C=O(E²N) and in the worst case: C=O(N⁵). "
   ]
  },
  {
   "cell_type": "code",
   "execution_count": null,
   "metadata": {},
   "outputs": [],
   "source": [
    "print(\"We shall have a time complexity of \"+str((len(G.edges())^2)*len(G.nodes()))+\"~10⁷\")"
   ]
  },
  {
   "cell_type": "code",
   "execution_count": null,
   "metadata": {},
   "outputs": [],
   "source": []
  },
  {
   "cell_type": "code",
   "execution_count": null,
   "metadata": {},
   "outputs": [],
   "source": [
    "import itertools\n",
    "\n",
    "k = 1\n",
    "comp = ntx.algorithms.community.centrality.girvan_newman(G)"
   ]
  },
  {
   "cell_type": "code",
   "execution_count": null,
   "metadata": {},
   "outputs": [],
   "source": [
    "for communities in itertools.islice(comp, k):\n",
    "    print(tuple(sorted(c) for c in communities))\n",
    "    list_comm = tuple(sorted(c) for c in communities)"
   ]
  },
  {
   "cell_type": "code",
   "execution_count": null,
   "metadata": {},
   "outputs": [],
   "source": [
    "limited = itertools.takewhile(lambda c: len(c) <= k, comp)\n",
    "print(type(limited))"
   ]
  },
  {
   "cell_type": "code",
   "execution_count": null,
   "metadata": {},
   "outputs": [],
   "source": [
    "for communities in limited:\n",
    "    print(communities) "
   ]
  },
  {
   "cell_type": "markdown",
   "metadata": {},
   "source": [
    "['G1375', 'G220', 'G2303', 'G4322', 'G745'], \n",
    "\n",
    "['G1468', 'G1834', 'G184', 'G2263', 'G231', 'G2537', 'G2970', 'G4726', 'G4869']"
   ]
  },
  {
   "cell_type": "code",
   "execution_count": null,
   "metadata": {},
   "outputs": [],
   "source": [
    "print(tuple(comm_list))"
   ]
  },
  {
   "cell_type": "code",
   "execution_count": null,
   "metadata": {},
   "outputs": [],
   "source": [
    "draw_agraph(G, [comm_list])"
   ]
  },
  {
   "cell_type": "code",
   "execution_count": null,
   "metadata": {},
   "outputs": [],
   "source": [
    "some_comms = []\n",
    "some_comms.append(['G1375', 'G220', 'G2303', 'G4322', 'G745'])\n",
    "some_comms.append(['G1468', 'G1834', 'G184', 'G2263', 'G231', 'G2537', 'G2970', 'G4726', 'G4869'])\n",
    "draw_agraph(G, some_comms)"
   ]
  },
  {
   "cell_type": "code",
   "execution_count": null,
   "metadata": {},
   "outputs": [],
   "source": [
    "commun1 = G.subgraph(['G1375', 'G220', 'G2303', 'G4322', 'G745'])\n",
    "ntx.draw_circular(commun1, with_labels= True)\n",
    "for comm in list_comm:\n",
    "    plt.figure()\n",
    "    ntx.draw_circular(G.subgraph(comm), with_labels= True)"
   ]
  },
  {
   "cell_type": "code",
   "execution_count": null,
   "metadata": {},
   "outputs": [],
   "source": []
  },
  {
   "cell_type": "code",
   "execution_count": null,
   "metadata": {},
   "outputs": [],
   "source": []
  },
  {
   "cell_type": "markdown",
   "metadata": {},
   "source": [
    "###  Louvain algorithm "
   ]
  },
  {
   "cell_type": "markdown",
   "metadata": {},
   "source": [
    "Louvain algorithm is a hierarchic method used for community detection based on optimization of modularity. Modularity is a value between -1 and 1 that measures the density of edges inside communities to edges outside communities.\n",
    "\n",
    "\n",
    "In the Louvain Method, at first, small communities are found by optimizing modularity locally on all nodes, then each small community is grouped into one node and the first step is repeated. "
   ]
  },
  {
   "cell_type": "markdown",
   "metadata": {},
   "source": [
    "#### Time complexity"
   ]
  },
  {
   "cell_type": "markdown",
   "metadata": {},
   "source": [
    "if data structures are maintained such that each  calculation of the modularity gain for one nodes when changing community can  be  computed  inO(1)  time, the  algorithm’s  time  complexity peri teration  is O(E), where E is the number of Edeges because each community changment corespond to one edge, and each edge correspond to two comunity changment (one for each of its nodes).   We don't know how many iteration  the algorithme  needs to terminate (the modularity gain in null for each edges at the last iteration), but for most real network (including ones with bilions of edges) this number is inferior to 10 so we can assume that the louvain algorithme is O(E).\n",
    "\n",
    "ref: *Lu Hao, Mahantesh Halappanavar, and Ananth Kalyanaraman \"Parallel heuristics for scalable community detection*"
   ]
  },
  {
   "cell_type": "markdown",
   "metadata": {},
   "source": [
    "# Conclusion"
   ]
  },
  {
   "cell_type": "code",
   "execution_count": null,
   "metadata": {},
   "outputs": [],
   "source": []
  }
 ],
 "metadata": {
  "finalized": {
   "timestamp": 1579520953629,
   "trusted": false
  },
  "kernelspec": {
   "display_name": "Python 2.7",
   "language": "python",
   "name": "python_2.7"
  },
  "language_info": {
   "codemirror_mode": {
    "name": "ipython",
    "version": 2
   },
   "file_extension": ".py",
   "mimetype": "text/x-python",
   "name": "python",
   "nbconvert_exporter": "python",
   "pygments_lexer": "ipython2",
   "version": "2.7.14"
  }
 },
 "nbformat": 4,
 "nbformat_minor": 2
}
